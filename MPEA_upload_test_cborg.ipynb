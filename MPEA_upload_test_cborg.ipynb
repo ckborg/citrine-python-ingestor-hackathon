{
 "cells": [
  {
   "cell_type": "code",
   "execution_count": 1,
   "metadata": {},
   "outputs": [],
   "source": [
    "# GOAL: upload data from MPEA_test_data.csv\n",
    "\n",
    "# import statement format from Lenore's notebook\n",
    "from citrine import Citrine\n",
    "import os\n",
    "import pandas as pd\n",
    "\n",
    "#Next, import the Dataset Class\n",
    "from citrine.resources.dataset import Dataset\n",
    "\n",
    "#Next, import the Data Object Classes\n",
    "from citrine.resources.measurement_run import MeasurementRun\n",
    "from citrine.resources.measurement_spec import MeasurementSpec\n",
    "from citrine.resources.process_run import ProcessRun\n",
    "from citrine.resources.process_spec import ProcessSpec\n",
    "from citrine.resources.material_run import MaterialRun\n",
    "from citrine.resources.material_spec import MaterialSpec\n",
    "from citrine.resources.ingredient_run import IngredientRun\n",
    "from citrine.resources.ingredient_spec import IngredientSpec\n",
    "from citrine.attributes.property import Property\n",
    "from citrine.attributes.condition import Condition\n",
    "from citrine.attributes.parameter import Parameter\n",
    "\n",
    "#Next, import the Template Class\n",
    "from citrine.resources.process_template import ProcessTemplate\n",
    "from citrine.resources.measurement_template import MeasurementTemplate\n",
    "from citrine.resources.material_template import MaterialTemplate\n",
    "from citrine.resources.property_template import PropertyTemplate\n",
    "from citrine.resources.condition_template import ConditionTemplate\n",
    "from citrine.resources.parameter_template import ParameterTemplate\n",
    "\n",
    "#Finally, Import the Value and Bound Classes\n",
    "from taurus.entity.bounds.categorical_bounds import CategoricalBounds\n",
    "from taurus.entity.value.nominal_categorical import NominalCategorical\n",
    "from taurus.entity.value.nominal_real import NominalReal\n",
    "from taurus.entity.value.normal_real import NormalReal\n",
    "from taurus.entity.value.empirical_formula import EmpiricalFormula\n",
    "from taurus.entity.bounds.real_bounds import RealBounds"
   ]
  },
  {
   "cell_type": "code",
   "execution_count": 2,
   "metadata": {},
   "outputs": [],
   "source": [
    "API_KEY = os.environ.get('CITRINE_API_KEY')\n",
    "API_SCHEME = 'https'\n",
    "API_HOST = 'data-ingestion.citrine-platform.com'\n",
    "API_PORT = '443'\n",
    "citrine = Citrine(API_KEY, API_SCHEME, API_HOST, API_PORT)"
   ]
  },
  {
   "cell_type": "code",
   "execution_count": 3,
   "metadata": {},
   "outputs": [
    {
     "name": "stdout",
     "output_type": "stream",
     "text": [
      "The UID for the new Dataset is: a13fb818-0489-4e1f-8c86-a8429e2e5a82\n"
     ]
    }
   ],
   "source": [
    "# initialize project and register a dataset to that project\n",
    "data_project = citrine.projects.register(\"MPEA hackathon data upload - final\")\n",
    "\n",
    "dataset_data_info = Dataset(name = \"Hackathon test dataset - MPEA data - cborg\",\n",
    "                            summary = \"MPEA data for hackathon testing\",\n",
    "                            description = \"how are summary and description different?\"\n",
    "                            )\n",
    "\n",
    "dataset_data = data_project.datasets.register(dataset_data_info)\n",
    "\n",
    "print(\"The UID for the new Dataset is: {}\".format(dataset_data.uid))"
   ]
  },
  {
   "cell_type": "code",
   "execution_count": 4,
   "metadata": {},
   "outputs": [
    {
     "name": "stdout",
     "output_type": "stream",
     "text": [
      "The UID for the YS template is: fb4d16e7-e986-4b3f-97d1-5f285ebbbda3\n",
      "The UID for the YS measurement template is: 5c85938d-fe90-4df4-ab26-d9d8cd987a68\n",
      "The UID for the YS Measurement Spec is: 99abd456-dc2b-4d0d-b9ad-3f346160f968\n"
     ]
    }
   ],
   "source": [
    "# Set the template and spec for yield strength\n",
    "\n",
    "ys_tags = [\"template::yield strength::ys\"]\n",
    "ys_property_template_init = PropertyTemplate(name=\"Yield strength\", description = \"Template for YS\", bounds = RealBounds(0, 10000000, 'MPa'), tags = ys_tags)\n",
    "ys_property_template = dataset_data.property_templates.register(ys_property_template_init)\n",
    "print(\"The UID for the YS template is: {}\".format(ys_property_template.uids['id']))\n",
    "\n",
    "ys_measurement_template_tags = [\"measurment::yield strength::ys\"]\n",
    "ys_measurement_template_init = MeasurementTemplate(name = \"YS Measurement\", properties = [ys_property_template], tags = ys_measurement_template_tags)\n",
    "ys_measurement_template = dataset_data.measurement_templates.register(ys_measurement_template_init)\n",
    "print(\"The UID for the YS measurement template is: {}\".format(ys_measurement_template.uids['id']))\n",
    "\n",
    "ys_spec_tags = [\"spec::ys::yield strength\"]\n",
    "ys_spec_init = MeasurementSpec(name = \"YS Measurement Spec\", template = ys_measurement_template, tags = ys_spec_tags)\n",
    "ys_spec = dataset_data.measurement_specs.register(ys_spec_init)\n",
    "print(\"The UID for the YS Measurement Spec is: {}\".format(ys_spec.uids['id']))"
   ]
  },
  {
   "cell_type": "code",
   "execution_count": 5,
   "metadata": {},
   "outputs": [
    {
     "name": "stdout",
     "output_type": "stream",
     "text": [
      "The UID for the faux material template is: e45698a4-ec37-411e-80bc-79af62255e3d\n",
      "The UID for the faux material spec is: b70b17d7-5dad-4990-817f-3f128fb947bc\n"
     ]
    }
   ],
   "source": [
    "# Set the template and spec formula/composition\n",
    "faux_material_template_tags = [\"template::composition\"]\n",
    "faux_material_template_init = MaterialTemplate(name = \"Test composition\", description = \"test comp template\", tags = faux_material_template_tags)\n",
    "faux_material_template = dataset_data.material_templates.register(faux_material_template_init)\n",
    "print(\"The UID for the faux material template is: {}\".format(faux_material_template.uids['id']))\n",
    "\n",
    "faux_materials_spec_tags = [\"spec::comp::faux material\"]\n",
    "faux_material_spec_init = MaterialSpec(name=\"Material Spec: test material\", template = faux_material_template, tags = faux_materials_spec_tags)\n",
    "faux_material_spec = dataset_data.material_specs.register(faux_material_spec_init)\n",
    "print(\"The UID for the faux material spec is: {}\".format(faux_material_spec.uids['id']))\n",
    "\n"
   ]
  },
  {
   "cell_type": "code",
   "execution_count": 6,
   "metadata": {},
   "outputs": [],
   "source": [
    "# Wrapper function so that each row is a unique material with YS property\n",
    "def add_ys_measurement(ys_value, composition):\n",
    "    faux_material_run_init = MaterialRun(name=\"Material Run: {}\".format(composition), spec = faux_material_spec)\n",
    "    faux_material_run = dataset_data.material_runs.register(faux_material_run_init)\n",
    "    ys_property = Property(name = \"YS\", value =  NominalReal(nominal=ys_value, units='MPa'))\n",
    "    composition_property = Property(name = \"Composition\", value =  EmpiricalFormula(formula=composition))\n",
    "    ys_run_tags = [\"run::yield strength::ys\"]\n",
    "    ys_run_init = MeasurementRun(name = \"YS measurement for {}\".format('FORMULA'), spec = ys_spec, material = faux_material_run, properties = [ys_property, composition_property], tags = ys_run_tags)\n",
    "    ys_run = dataset_data.measurement_runs.register(ys_run_init)\n",
    "    print(\"The UID for the YS Measurement Run is: {}\".format(ys_run.uids['id']))"
   ]
  },
  {
   "cell_type": "code",
   "execution_count": 7,
   "metadata": {},
   "outputs": [
    {
     "name": "stdout",
     "output_type": "stream",
     "text": [
      "The UID for the YS Measurement Run is: 93d4b6d7-d6e1-4470-bc2b-c3330b23987e\n",
      "The UID for the YS Measurement Run is: e1e97e68-14c5-4a3c-96bb-546ea9868ec4\n",
      "The UID for the YS Measurement Run is: 6760de5d-fa6f-44a4-b29c-482697a6b941\n",
      "The UID for the YS Measurement Run is: 25a027dd-6755-4532-8285-0fad88ea2df1\n",
      "The UID for the YS Measurement Run is: 7da00e55-1eb2-496f-be29-af0b99ab6a4f\n",
      "The UID for the YS Measurement Run is: 7a0d53fd-283e-4039-8489-9f1bae37d669\n",
      "The UID for the YS Measurement Run is: 6637a5ce-dddf-46cf-8b79-e210c7b38a49\n",
      "The UID for the YS Measurement Run is: 229fa3b0-4dde-4aed-b6bc-31a0d6a1af56\n",
      "The UID for the YS Measurement Run is: d36816c3-8b5d-419f-aa74-67869253182c\n",
      "The UID for the YS Measurement Run is: f9ea0199-e1b0-40dd-b8f3-de7af83cb86b\n",
      "The UID for the YS Measurement Run is: 521cfe93-d4e3-4557-8fd7-cb6680c544ae\n",
      "The UID for the YS Measurement Run is: bdfccc4d-e864-4c85-85c6-7e1a41f39063\n",
      "The UID for the YS Measurement Run is: 39bfa35d-e4e5-49ed-b14b-dc6ddfd14f76\n",
      "The UID for the YS Measurement Run is: d16880a8-011c-4515-895e-e2e3a16db574\n",
      "The UID for the YS Measurement Run is: 1f30a25d-05d8-46dd-90b2-f953b493d321\n",
      "The UID for the YS Measurement Run is: c9d23044-e345-4724-bbf2-929bcb28c98c\n",
      "The UID for the YS Measurement Run is: 417261e6-2234-40c2-98e5-ef5bfd89a319\n",
      "The UID for the YS Measurement Run is: 2dcc9fa3-a4ea-428f-8047-e04d15326072\n",
      "The UID for the YS Measurement Run is: 032bee73-e438-48e3-a45e-e00891cec858\n",
      "The UID for the YS Measurement Run is: 335bedc5-0834-4428-b25b-66711e85bea2\n",
      "The UID for the YS Measurement Run is: 99440cb4-a1ba-4a69-a643-40fe632f19c5\n",
      "The UID for the YS Measurement Run is: 87d7275f-0255-47bc-8722-a7a8f555a7b4\n",
      "The UID for the YS Measurement Run is: 0acaf870-8420-4e1c-bc08-127851830976\n",
      "The UID for the YS Measurement Run is: 137ccddc-ebf8-4dc0-9181-d3d338e91a13\n",
      "The UID for the YS Measurement Run is: 8c0d4d5d-77af-41e7-915d-7efe6bafc8f4\n",
      "The UID for the YS Measurement Run is: 7b887e1e-c64c-4681-b210-25cd374635f1\n",
      "The UID for the YS Measurement Run is: d9d9062e-7d21-4238-86db-259517114208\n",
      "The UID for the YS Measurement Run is: 479a1f79-50f0-4239-b6e5-1473e6380efa\n",
      "The UID for the YS Measurement Run is: c7e68868-8c4b-43d8-b53e-59ceb74ff173\n",
      "The UID for the YS Measurement Run is: 268ddf8d-4ec8-4e1c-b0f5-a8f940a15857\n",
      "The UID for the YS Measurement Run is: 875d3133-5b1c-4d89-a044-c7542a6ef307\n",
      "The UID for the YS Measurement Run is: 9884d392-fb9a-46f7-8fda-d36d10d185f0\n",
      "The UID for the YS Measurement Run is: 4c3c264b-7225-4194-9eb5-c4ed6ce98d82\n",
      "The UID for the YS Measurement Run is: fe2ddef4-4556-47dd-97a8-439b2fe07edd\n",
      "The UID for the YS Measurement Run is: 9b4a5bdc-3c9c-4faa-b77e-aec883989815\n",
      "The UID for the YS Measurement Run is: d6e0fe43-523f-418c-a01d-65b55b6b7ff9\n",
      "The UID for the YS Measurement Run is: 2b2a48aa-16a7-4771-8a34-7e3b20ed4ed1\n",
      "The UID for the YS Measurement Run is: 240ed181-5653-48f2-8d79-5f87d59d2c88\n",
      "The UID for the YS Measurement Run is: 8e2472a6-7e40-4e68-acb4-56bcaaa7c8d2\n",
      "The UID for the YS Measurement Run is: 6c6c1b0c-7511-4942-8456-5f46b3577be6\n",
      "The UID for the YS Measurement Run is: 68f5a851-ee60-40b1-b417-a2531597b103\n",
      "The UID for the YS Measurement Run is: 753b5550-2823-45d2-9c2f-b09e925c601a\n",
      "The UID for the YS Measurement Run is: 00c2cec0-8a9c-4976-a7d8-46ea980e5ae2\n",
      "The UID for the YS Measurement Run is: f72b57cf-9650-41ab-b1d8-60516949a106\n",
      "The UID for the YS Measurement Run is: eafc2753-9a5a-4ee9-9689-a8b4d5280751\n",
      "The UID for the YS Measurement Run is: 3b1a1962-4649-4d0f-a7f5-b870380311ac\n",
      "The UID for the YS Measurement Run is: 4ae88731-3557-4b52-9332-5bd7a8fe6e86\n",
      "The UID for the YS Measurement Run is: 0fce8db4-e1fd-4b7b-ad76-3c501f8d6a27\n",
      "The UID for the YS Measurement Run is: 5ce9f603-44c1-4eca-ad5c-03fb5e8cd336\n",
      "The UID for the YS Measurement Run is: ccd0a76b-7a90-4f5c-927b-f3a8649fa983\n",
      "The UID for the YS Measurement Run is: 3ea46f7d-44f2-4a3b-b423-9e61fc62cb7a\n",
      "The UID for the YS Measurement Run is: b47acd63-0f4c-4692-8f18-652a4aa914e7\n",
      "The UID for the YS Measurement Run is: c88140bf-bad2-4197-8868-c3471a2ea7f9\n",
      "The UID for the YS Measurement Run is: 51a48f47-5b2e-4159-8ee3-1279b7e42e16\n",
      "The UID for the YS Measurement Run is: 8f519718-e59d-48d1-a58e-53155f11a65d\n",
      "The UID for the YS Measurement Run is: 960fb1ad-3d52-410b-832d-9f611e296c9e\n",
      "The UID for the YS Measurement Run is: 018fad50-0bee-4bfc-a19f-5ed49ea4e2a5\n",
      "The UID for the YS Measurement Run is: a02a4a23-c5aa-45d4-9c24-77a1ad7260e2\n",
      "The UID for the YS Measurement Run is: 31a3ab2a-b0d9-44c1-bea7-cf044dc034c6\n",
      "The UID for the YS Measurement Run is: 682b6762-b9be-46cc-901e-b58d2d0d012d\n",
      "The UID for the YS Measurement Run is: 43b8fecd-cb12-4eff-bd7a-d3a84a94b35f\n",
      "The UID for the YS Measurement Run is: a5c7cbd6-728c-4b8c-b90d-668571dd9a91\n",
      "The UID for the YS Measurement Run is: d0844df1-0bee-49cc-92b8-aa8533ca5c73\n",
      "The UID for the YS Measurement Run is: c898388c-20c7-40f8-b1fe-2de681642d24\n",
      "The UID for the YS Measurement Run is: b66db7fd-1969-4f29-a63c-b806c07e7f74\n",
      "The UID for the YS Measurement Run is: 2c2cfdd5-0468-4c89-aa1b-36fe01f0fdb6\n",
      "The UID for the YS Measurement Run is: c9ee9d18-ae31-46d2-ba7c-39cceea670b1\n",
      "The UID for the YS Measurement Run is: 265d4457-dbd9-46d7-8f5d-92f21f8ecb64\n",
      "The UID for the YS Measurement Run is: 04dd4dfa-9e12-4514-99d4-33e2c0c45345\n",
      "The UID for the YS Measurement Run is: 33821548-baed-43ba-a8cc-ce78c3623ec4\n",
      "The UID for the YS Measurement Run is: ef5f77ad-0b4e-40e9-9b2e-c71db3572057\n",
      "The UID for the YS Measurement Run is: 8aae1005-e78f-4f5e-9796-9984f9327a49\n",
      "The UID for the YS Measurement Run is: 9fb751f7-a2ac-4988-bc32-83b23a13a274\n",
      "The UID for the YS Measurement Run is: b1e637c0-8a9c-4a2a-85fa-9c986e57867b\n",
      "The UID for the YS Measurement Run is: 6ebc14cb-d4d5-416d-9ce8-f9212ee803bd\n",
      "The UID for the YS Measurement Run is: a000acc1-7761-461d-9cf9-a6f6fc5c738c\n",
      "The UID for the YS Measurement Run is: 09b71d4e-7ca4-448d-b526-4d3cc67a23a2\n",
      "The UID for the YS Measurement Run is: eddbde81-62c4-41ed-bc13-8f6b13dd1e83\n",
      "The UID for the YS Measurement Run is: 0693a8f4-c8e8-4242-b458-9ce7d964714f\n",
      "The UID for the YS Measurement Run is: 6776e8f6-e000-47b2-a298-48537c9cada3\n",
      "The UID for the YS Measurement Run is: 3ac9c1b1-989b-4509-bd9a-5e36e4fda55f\n",
      "The UID for the YS Measurement Run is: 8512f40a-1940-4e9a-b39f-011f41f47e0b\n",
      "The UID for the YS Measurement Run is: 87790a1e-8385-43b9-9858-189ef8436b22\n",
      "The UID for the YS Measurement Run is: b14cfd10-532c-4213-ad42-83f406421d78\n",
      "The UID for the YS Measurement Run is: 03d674f0-cc1b-40c8-9644-4800ad0dc1b7\n",
      "The UID for the YS Measurement Run is: e9b0e0e2-dddf-49a6-ba37-a74d316dc8bb\n",
      "The UID for the YS Measurement Run is: ab1bd391-6705-43fa-a651-6652f8571cb9\n",
      "The UID for the YS Measurement Run is: 39a1e6da-aef3-4464-963d-324636467e76\n",
      "The UID for the YS Measurement Run is: 3e23c88e-f9d0-4400-a4f8-06f05df57575\n",
      "The UID for the YS Measurement Run is: c535ab4c-3086-45c4-8a0c-92093fba2ad2\n",
      "The UID for the YS Measurement Run is: 52c08b59-d96a-4040-8338-4905389e7917\n",
      "The UID for the YS Measurement Run is: b6dd52ab-de4c-4d97-bfd6-884fad48240d\n",
      "The UID for the YS Measurement Run is: 99373efe-4282-4389-8892-ea1a6986d46b\n",
      "The UID for the YS Measurement Run is: 26c7db7c-8dad-4563-91e8-21c0cd8028af\n",
      "The UID for the YS Measurement Run is: d59f7337-3b6f-4e19-8f95-7af8d375aa8d\n",
      "The UID for the YS Measurement Run is: 0d80199e-1c0d-4d05-ae0e-2d3e7d3e4162\n",
      "The UID for the YS Measurement Run is: 4980fded-12ad-47ac-af2f-836a2b90e944\n",
      "The UID for the YS Measurement Run is: 3beca300-e70c-415a-81db-55f89645496a\n",
      "The UID for the YS Measurement Run is: dcb0ce78-14b9-42c4-ad45-197b01910d6b\n"
     ]
    }
   ],
   "source": [
    "# get data and run add_ys_measurement over all rows\n",
    "df = pd.read_csv('MPEA_test_data.csv')\n",
    "# df['ys_prop'] = df[' PROPERTY: YS (MPa)'].apply(lambda x: Property(name='YS', value=NominalReal(nominal=x, units='MPa')))\n",
    "\n",
    "for index, row in df.iterrows():\n",
    "    add_ys_measurement(row[' PROPERTY: YS (MPa)'], row['FORMULA'])"
   ]
  }
 ],
 "metadata": {
  "kernelspec": {
   "display_name": "Python 3",
   "language": "python",
   "name": "python3"
  },
  "language_info": {
   "codemirror_mode": {
    "name": "ipython",
    "version": 3
   },
   "file_extension": ".py",
   "mimetype": "text/x-python",
   "name": "python",
   "nbconvert_exporter": "python",
   "pygments_lexer": "ipython3",
   "version": "3.7.4"
  }
 },
 "nbformat": 4,
 "nbformat_minor": 4
}
